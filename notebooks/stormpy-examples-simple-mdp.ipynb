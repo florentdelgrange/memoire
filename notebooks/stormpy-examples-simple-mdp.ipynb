{
 "cells": [
  {
   "cell_type": "markdown",
   "metadata": {},
   "source": [
    "# Introduction"
   ]
  },
  {
   "cell_type": "code",
   "execution_count": 1,
   "metadata": {},
   "outputs": [],
   "source": [
    "import stormpy\n",
    "import stormpy.core"
   ]
  },
  {
   "cell_type": "markdown",
   "metadata": {},
   "source": [
    "Load the *agent stochastic maze* MDP model :"
   ]
  },
  {
   "cell_type": "code",
   "execution_count": 2,
   "metadata": {},
   "outputs": [],
   "source": [
    "path = '../../examples/simple_mdp.prism'\n",
    "prism_program = stormpy.parse_prism_program(path)"
   ]
  },
  {
   "cell_type": "code",
   "execution_count": 3,
   "metadata": {},
   "outputs": [
    {
     "name": "stdout",
     "output_type": "stream",
     "text": [
      "mdp\n",
      "\n",
      "module classic\n",
      "\n",
      "s: [0..2] init 0;\n",
      "\n",
      "[beta] s=0 -> 0.5 : (s'=1) + 0.5 : (s'=2);\n",
      "[gamma] s=1 -> 1 : (s'=0);\n",
      "[alpha] s=2 -> 1 : (s'=2);\n",
      "[gamma] s=2 -> 1 : (s'=0);\n",
      "\n",
      "endmodule\n",
      "\n",
      "label \"T\" = s=1;\n",
      "\n",
      "rewards \"weights\"\n",
      "  [alpha] true : 5;\n",
      "  [beta] true : 3;\n",
      "  [gamma] true : 2;\n",
      "endrewards\n",
      "\n"
     ]
    }
   ],
   "source": [
    "with open(path, 'r') as prism_file:\n",
    "    print(prism_file.read())"
   ]
  },
  {
   "cell_type": "code",
   "execution_count": 5,
   "metadata": {},
   "outputs": [
    {
     "name": "stdout",
     "output_type": "stream",
     "text": [
      "Model Type: ModelType.MDP\n",
      "Number of states: 3\n",
      "Number of transitions: 5\n"
     ]
    }
   ],
   "source": [
    "model = stormpy.build_model(prism_program)\n",
    "print(\"Model Type: {}\".format(model.model_type))\n",
    "print(\"Number of states: {}\".format(model.nr_states))\n",
    "print(\"Number of transitions: {}\".format(model.nr_transitions))"
   ]
  },
  {
   "cell_type": "code",
   "execution_count": 6,
   "metadata": {},
   "outputs": [
    {
     "name": "stdout",
     "output_type": "stream",
     "text": [
      "\t\t0\t1\t2\t\n",
      "\t---- group 0/2 ---- \n",
      "0\t(\t0\t0.5\t0.5\t\t)\t0\n",
      "\t---- group 1/2 ---- \n",
      "1\t(\t1\t0\t0\t\t)\t1\n",
      "\t---- group 2/2 ---- \n",
      "2\t(\t1\t0\t0\t\t)\t2\n",
      "3\t(\t0\t0\t1\t\t)\t3\n",
      "\t\t0\t1\t2\t\n",
      "\n"
     ]
    }
   ],
   "source": [
    "print(model.transition_matrix)"
   ]
  },
  {
   "cell_type": "markdown",
   "metadata": {},
   "source": [
    "Solve the stochastic shortest path expectation problem :"
   ]
  },
  {
   "cell_type": "code",
   "execution_count": 7,
   "metadata": {},
   "outputs": [],
   "source": [
    "# Prism-PCTL formula\n",
    "formula = 'Rmin=? [F \"T\"]'\n",
    "properties = stormpy.parse_properties_for_prism_program(formula, prism_program)"
   ]
  },
  {
   "cell_type": "code",
   "execution_count": 8,
   "metadata": {},
   "outputs": [
    {
     "name": "stdout",
     "output_type": "stream",
     "text": [
      "3 labels\n",
      "   * init -> 1 item(s)\n",
      "   * deadlock -> 0 item(s)\n",
      "   * T -> 1 item(s)\n",
      "\n"
     ]
    }
   ],
   "source": [
    "model = stormpy.build_model(prism_program, properties)\n",
    "print(model.labeling)\n",
    "#print(\"Labels in the model: {}\".format(sorted(model.labeling.get_labels())))"
   ]
  },
  {
   "cell_type": "code",
   "execution_count": 9,
   "metadata": {},
   "outputs": [],
   "source": [
    "result = stormpy.model_checking(model, properties[0])"
   ]
  },
  {
   "cell_type": "code",
   "execution_count": 10,
   "metadata": {},
   "outputs": [
    {
     "name": "stdout",
     "output_type": "stream",
     "text": [
      "v[0]=8.0\n",
      "v[1]=0.0\n",
      "v[2]=10.0\n"
     ]
    }
   ],
   "source": [
    "assert result.result_for_all_states\n",
    "for s, x in enumerate(result.get_values()):\n",
    "    print(\"v[{}]={}\".format(s, x))\n",
    "#print(result.get_values())"
   ]
  },
  {
   "cell_type": "markdown",
   "metadata": {},
   "source": [
    "# Investigating the model"
   ]
  },
  {
   "cell_type": "code",
   "execution_count": 11,
   "metadata": {},
   "outputs": [
    {
     "name": "stdout",
     "output_type": "stream",
     "text": [
      "[a0:0] s=0 -> 0.5 : (s'=1) + 0.5 : (s'=2) \n",
      "[a1:0] s=1 -> 1.0 : (s'=0) \n",
      "[a2:0] s=2 -> 1.0 : (s'=0) \n",
      "[a2:1] s=2 -> 1.0 : (s'=2) \n"
     ]
    }
   ],
   "source": [
    "for state in model.states:\n",
    "    for action in state.actions:\n",
    "        descr = \"[a{}:{}] s={} -> \".format(state, action, state)\n",
    "        for transition in action.transitions:\n",
    "            #print(\"From state {}, choose the action {} and go to state {} with probability {}\".format(state, action, transition.column, transition.value()))\n",
    "            descr += \"{} : (s'={}) + \".format(transition.value(), transition.column)\n",
    "        print(descr[:-2])"
   ]
  },
  {
   "cell_type": "code",
   "execution_count": 12,
   "metadata": {},
   "outputs": [
    {
     "data": {
      "text/plain": [
       "stormpy.storage.storage.SparseMdp"
      ]
     },
     "execution_count": 12,
     "metadata": {},
     "output_type": "execute_result"
    }
   ],
   "source": [
    "type(model)"
   ]
  },
  {
   "cell_type": "markdown",
   "metadata": {},
   "source": [
    "# Rewards"
   ]
  },
  {
   "cell_type": "code",
   "execution_count": 13,
   "metadata": {},
   "outputs": [
    {
     "data": {
      "text/plain": [
       "'weights'"
      ]
     },
     "execution_count": 13,
     "metadata": {},
     "output_type": "execute_result"
    }
   ],
   "source": [
    "reward_model_name = list(model.reward_models.keys())[0]\n",
    "reward_model_name"
   ]
  },
  {
   "cell_type": "code",
   "execution_count": 14,
   "metadata": {},
   "outputs": [
    {
     "data": {
      "text/plain": [
       "[3.0, 2.0, 2.0, 5.0]"
      ]
     },
     "execution_count": 14,
     "metadata": {},
     "output_type": "execute_result"
    }
   ],
   "source": [
    "assert(model.reward_models[reward_model_name].has_state_action_rewards)\n",
    "assert not model.reward_models[reward_model_name].has_state_rewards\n",
    "assert not model.reward_models[reward_model_name].has_transition_rewards\n",
    "\n",
    "model.reward_models[reward_model_name].state_action_rewards"
   ]
  },
  {
   "cell_type": "markdown",
   "metadata": {},
   "source": [
    "# Model exportation"
   ]
  },
  {
   "cell_type": "code",
   "execution_count": 19,
   "metadata": {},
   "outputs": [],
   "source": [
    "stormpy.export_to_drn(model, 'model_drn')"
   ]
  },
  {
   "cell_type": "code",
   "execution_count": 20,
   "metadata": {},
   "outputs": [
    {
     "name": "stdout",
     "output_type": "stream",
     "text": [
      "// Exported by storm\n",
      "// Original model type: MDP\n",
      "@type: MDP\n",
      "@parameters\n",
      "\n",
      "@reward_models\n",
      "weights \n",
      "@nr_states\n",
      "3\n",
      "@model\n",
      "state 0 [0] init\n",
      "\taction 0 [3]\n",
      "\t\t1 : 0.5\n",
      "\t\t2 : 0.5\n",
      "state 1 [0] T\n",
      "\taction 0 [2]\n",
      "\t\t0 : 1\n",
      "state 2 [0]\n",
      "\taction 0 [2]\n",
      "\t\t0 : 1\n",
      "\taction 1 [5]\n",
      "\t\t2 : 1\n",
      "\n"
     ]
    }
   ],
   "source": [
    "with open('model_drn', 'r') as prism_file:\n",
    "    print(prism_file.read())"
   ]
  },
  {
   "cell_type": "code",
   "execution_count": null,
   "metadata": {},
   "outputs": [],
   "source": []
  }
 ],
 "metadata": {
  "kernelspec": {
   "display_name": "Storm-1.2.0",
   "language": "python",
   "name": "storm-1.2.0"
  },
  "language_info": {
   "codemirror_mode": {
    "name": "ipython",
    "version": 3
   },
   "file_extension": ".py",
   "mimetype": "text/x-python",
   "name": "python",
   "nbconvert_exporter": "python",
   "pygments_lexer": "ipython3",
   "version": "3.6.3"
  }
 },
 "nbformat": 4,
 "nbformat_minor": 2
}
