{
 "cells": [
  {
   "cell_type": "markdown",
   "metadata": {},
   "source": [
    "# Introduction"
   ]
  },
  {
   "cell_type": "code",
   "execution_count": 1,
   "metadata": {},
   "outputs": [],
   "source": [
    "import stormpy\n",
    "import stormpy.core"
   ]
  },
  {
   "cell_type": "markdown",
   "metadata": {},
   "source": [
    "Load the *agent stochastic maze* MDP model :"
   ]
  },
  {
   "cell_type": "code",
   "execution_count": 3,
   "metadata": {},
   "outputs": [],
   "source": [
    "path = '../models/agent_stochastic_maze.prism'\n",
    "prism_program = stormpy.parse_prism_program(path)"
   ]
  },
  {
   "cell_type": "code",
   "execution_count": 4,
   "metadata": {},
   "outputs": [
    {
     "name": "stdout",
     "output_type": "stream",
     "text": [
      "mdp\n",
      "\n",
      "module MAZE\n",
      "\n",
      "s: [0..11] init 0;\n",
      "\n",
      "[right] s=0 -> 0.8 : (s'=1) + 0.2 : (s'=5);\n",
      "[down] s=0 -> 0.2 : (s'=1) + 0.8 : (s'=5);\n",
      "[right] s=1 -> 1 : (s'=3);\n",
      "[left] s=2 -> 1 : (s'=0);\n",
      "[left] s=3 -> 0.9 : (s'=2) + 0.1 : (s'=6);\n",
      "[down] s=3 -> 1/3 : (s'=2) + 1/3 : (s'=6) + 1/3 : (s'=4);\n",
      "[right] s=3 -> 0.9 : (s'=4) + 0.1 : (s'=6);\n",
      "[downleft] s=4 -> 1 : (s'=10);\n",
      "[downright] s=5 -> 1 : (s'=10);\n",
      "[down] s=6 -> 1 : (s'=7);\n",
      "[right] s=7 -> 1 : (s'=8);\n",
      "[left] s=8 -> 1 : (s'=7);\n",
      "[leftup] s=9 -> 1 : (s'=0);\n",
      "[right] s=10 -> 0.9 : (s'=9) + 0.1 : (s'=7);\n",
      "[up] s=10 -> 0.1 : (s'=9) + 0.8 : (s'=7) + 0.1 : (s'=11);\n",
      "[down] s=10 -> 0.1 : (s'=7) + 0.9 : (s'=11);\n",
      "[rightup] s=11 -> 1 : (s'=3);\n",
      "\n",
      "endmodule\n",
      "\n",
      "label \"square_1_1\" = s=0;\n",
      "label \"square_1_2\" = s=1;\n",
      "label \"square_1_2_bis\" = s=2;\n",
      "label \"square_1_3\" = s=3;\n",
      "label \"square_1_4\" = s=4;\n",
      "label \"square_2_1\" = s=5;\n",
      "label \"square_2_3\" = s=6;\n",
      "label \"T\" = s=7 | s=8;\n",
      "label \"square_4_2\" = s=9;\n",
      "label \"square_4_3\" = s=10;\n",
      "label \"square_5_3\" = s=11;\n",
      "\n",
      "rewards \"move\"\n",
      "    [right] true : 1;\n",
      "    [left] true : 1;\n",
      "    [up] true : 1;\n",
      "    [down] true : 1;\n",
      "    [downright] true : 4;\n",
      "    [leftup] true : 4;\n",
      "    [downleft] true : 10;\n",
      "    [rightup] true : 10;\n",
      "endrewards\n",
      "\n"
     ]
    }
   ],
   "source": [
    "with open(path, 'r') as prism_file:\n",
    "    print(prism_file.read())"
   ]
  },
  {
   "cell_type": "code",
   "execution_count": 5,
   "metadata": {},
   "outputs": [
    {
     "name": "stdout",
     "output_type": "stream",
     "text": [
      "Model Type: ModelType.MDP\n",
      "Number of states: 12\n",
      "Number of transitions: 27\n"
     ]
    }
   ],
   "source": [
    "model = stormpy.build_model(prism_program)\n",
    "print(\"Model Type: {}\".format(model.model_type))\n",
    "print(\"Number of states: {}\".format(model.nr_states))\n",
    "print(\"Number of transitions: {}\".format(model.nr_transitions))"
   ]
  },
  {
   "cell_type": "code",
   "execution_count": 7,
   "metadata": {},
   "outputs": [
    {
     "name": "stdout",
     "output_type": "stream",
     "text": [
      "13 labels\n",
      "   * init -> 1 item(s)\n",
      "   * square_4_3 -> 1 item(s)\n",
      "   * square_2_1 -> 1 item(s)\n",
      "   * square_1_4 -> 1 item(s)\n",
      "   * square_4_2 -> 1 item(s)\n",
      "   * deadlock -> 0 item(s)\n",
      "   * square_2_3 -> 1 item(s)\n",
      "   * square_1_1 -> 1 item(s)\n",
      "   * square_1_3 -> 1 item(s)\n",
      "   * T -> 2 item(s)\n",
      "   * square_1_2 -> 1 item(s)\n",
      "   * square_5_3 -> 1 item(s)\n",
      "   * square_1_2_bis -> 1 item(s)\n",
      "\n"
     ]
    }
   ],
   "source": [
    "print(model.labeling)"
   ]
  },
  {
   "cell_type": "markdown",
   "metadata": {},
   "source": [
    "Solve the stochastic shortest path expectation problem :"
   ]
  },
  {
   "cell_type": "code",
   "execution_count": 8,
   "metadata": {},
   "outputs": [],
   "source": [
    "# PCTL formula\n",
    "formula = \"Rmin=? [F \\\"T\\\"]\"\n",
    "properties = stormpy.parse_properties_for_prism_program(formula, prism_program)"
   ]
  },
  {
   "cell_type": "code",
   "execution_count": 9,
   "metadata": {},
   "outputs": [
    {
     "name": "stdout",
     "output_type": "stream",
     "text": [
      "3 labels\n",
      "   * init -> 1 item(s)\n",
      "   * deadlock -> 0 item(s)\n",
      "   * T -> 2 item(s)\n",
      "\n"
     ]
    }
   ],
   "source": [
    "model = stormpy.build_model(prism_program, properties)\n",
    "print(model.labeling)\n",
    "#print(\"Labels in the model: {}\".format(sorted(model.labeling.get_labels())))"
   ]
  },
  {
   "cell_type": "markdown",
   "metadata": {},
   "source": [
    "## Initial states"
   ]
  },
  {
   "cell_type": "code",
   "execution_count": 10,
   "metadata": {},
   "outputs": [
    {
     "name": "stdout",
     "output_type": "stream",
     "text": [
      "S[0]\n"
     ]
    }
   ],
   "source": [
    "for initial_state in model.initial_states:\n",
    "    print('S[{}]'.format(initial_state))"
   ]
  },
  {
   "cell_type": "code",
   "execution_count": 11,
   "metadata": {},
   "outputs": [],
   "source": [
    "result = stormpy.model_checking(model, properties[0])"
   ]
  },
  {
   "cell_type": "code",
   "execution_count": 12,
   "metadata": {},
   "outputs": [
    {
     "name": "stdout",
     "output_type": "stream",
     "text": [
      "v[0]=9.830509648470983\n",
      "v[1]=10.728815630562762\n",
      "v[2]=8.355933152948037\n",
      "v[3]=9.728815630562762\n",
      "v[4]=4.355933152948038\n",
      "v[5]=14.355934982064934\n",
      "v[6]=1.0\n",
      "v[7]=10.830511909623352\n",
      "v[8]=0.0\n",
      "v[9]=13.830511909623352\n",
      "v[10]=19.728819619857024\n",
      "v[11]=0.0\n"
     ]
    }
   ],
   "source": [
    "assert result.result_for_all_states\n",
    "states_label = [\"(1, 1)\", \"(1, 2)\", \"(1, 2)'\", \"(1, 3)\", \"(1, 4)\", \"(2, 1)\",\n",
    "               \"(2, 3)\", \"t1\", \"t2\", \"(4, 2)\", \"(4, 3)\", \"(5, 3)\"]\n",
    "for s, x in enumerate(result.get_values()):\n",
    "    print(\"v[{}]={}\".format(s, x))\n",
    "#print(result.get_values())"
   ]
  },
  {
   "cell_type": "markdown",
   "metadata": {},
   "source": [
    "# Investigating the model"
   ]
  },
  {
   "cell_type": "code",
   "execution_count": 13,
   "metadata": {},
   "outputs": [
    {
     "name": "stdout",
     "output_type": "stream",
     "text": [
      "[a0:0] s=0 -> 0.8 : (s'=1) + 0.2 : (s'=2) \n",
      "[a0:1] s=0 -> 0.2 : (s'=1) + 0.8 : (s'=2) \n",
      "[a1:0] s=1 -> 1.0 : (s'=3) \n",
      "[a2:0] s=2 -> 1.0 : (s'=4) \n",
      "[a3:0] s=3 -> 0.9 : (s'=5) + 0.1 : (s'=6) \n",
      "[a3:1] s=3 -> 0.3333333333333333 : (s'=5) + 0.3333333333333333 : (s'=6) + 0.3333333333333333 : (s'=7) \n",
      "[a3:2] s=3 -> 0.1 : (s'=6) + 0.9 : (s'=7) \n",
      "[a4:0] s=4 -> 0.1 : (s'=8) + 0.9 : (s'=9) \n",
      "[a4:1] s=4 -> 0.1 : (s'=8) + 0.9 : (s'=10) \n",
      "[a4:2] s=4 -> 0.8 : (s'=8) + 0.1 : (s'=9) + 0.1 : (s'=10) \n",
      "[a5:0] s=5 -> 1.0 : (s'=4) \n",
      "[a6:0] s=6 -> 1.0 : (s'=8) \n",
      "[a7:0] s=7 -> 1.0 : (s'=0) \n",
      "[a8:0] s=8 -> 1.0 : (s'=11) \n",
      "[a9:0] s=9 -> 1.0 : (s'=0) \n",
      "[a10:0] s=10 -> 1.0 : (s'=3) \n",
      "[a11:0] s=11 -> 1.0 : (s'=8) \n"
     ]
    }
   ],
   "source": [
    "for state in model.states:\n",
    "    for action in state.actions:\n",
    "        descr = \"[a{}:{}] s={} -> \".format(state, action, state)\n",
    "        for transition in action.transitions:\n",
    "            #print(\"From state {}, choose the action {} and go to state {} with probability {}\".format(state, action, transition.column, transition.value()))\n",
    "            descr += \"{} : (s'={}) + \".format(transition.value(), transition.column)\n",
    "        print(descr[:-2])"
   ]
  },
  {
   "cell_type": "markdown",
   "metadata": {},
   "source": [
    "# Rewards"
   ]
  },
  {
   "cell_type": "code",
   "execution_count": 14,
   "metadata": {},
   "outputs": [
    {
     "data": {
      "text/plain": [
       "'move'"
      ]
     },
     "execution_count": 14,
     "metadata": {},
     "output_type": "execute_result"
    }
   ],
   "source": [
    "reward_model_name = list(model.reward_models.keys())[0]\n",
    "reward_model_name"
   ]
  },
  {
   "cell_type": "code",
   "execution_count": 15,
   "metadata": {},
   "outputs": [
    {
     "name": "stdout",
     "output_type": "stream",
     "text": [
      "[1.0, 1.0, 1.0, 4.0, 1.0, 1.0, 1.0, 1.0, 1.0, 1.0, 10.0, 1.0, 1.0, 1.0, 4.0, 10.0, 1.0]\n",
      "number of rewards : 17\n"
     ]
    }
   ],
   "source": [
    "print(model.reward_models[reward_model_name].state_action_rewards)\n",
    "print(\"number of rewards : {}\".format(len(model.reward_models[reward_model_name].state_action_rewards)))"
   ]
  },
  {
   "cell_type": "markdown",
   "metadata": {},
   "source": [
    "# Export the model"
   ]
  },
  {
   "cell_type": "code",
   "execution_count": 16,
   "metadata": {},
   "outputs": [],
   "source": [
    "stormpy.export_to_drn(model, '../models/agent_stochastic_maze_drn')"
   ]
  },
  {
   "cell_type": "code",
   "execution_count": 18,
   "metadata": {},
   "outputs": [
    {
     "name": "stdout",
     "output_type": "stream",
     "text": [
      "// Exported by storm\n",
      "// Original model type: MDP\n",
      "@type: MDP\n",
      "@parameters\n",
      "\n",
      "@reward_models\n",
      "move \n",
      "@nr_states\n",
      "12\n",
      "@model\n",
      "state 0 [0] init\n",
      "\taction 0 [1]\n",
      "\t\t1 : 0.8\n",
      "\t\t2 : 0.2\n",
      "\taction 1 [1]\n",
      "\t\t1 : 0.2\n",
      "\t\t2 : 0.8\n",
      "state 1 [0]\n",
      "\taction 0 [1]\n",
      "\t\t3 : 1\n",
      "state 2 [0]\n",
      "\taction 0 [4]\n",
      "\t\t4 : 1\n",
      "state 3 [0]\n",
      "\taction 0 [1]\n",
      "\t\t5 : 0.9\n",
      "\t\t6 : 0.1\n",
      "\taction 1 [1]\n",
      "\t\t5 : 0.333333\n",
      "\t\t6 : 0.333333\n",
      "\t\t7 : 0.333333\n",
      "\taction 2 [1]\n",
      "\t\t6 : 0.1\n",
      "\t\t7 : 0.9\n",
      "state 4 [0]\n",
      "\taction 0 [1]\n",
      "\t\t8 : 0.1\n",
      "\t\t9 : 0.9\n",
      "\taction 1 [1]\n",
      "\t\t8 : 0.1\n",
      "\t\t10 : 0.9\n",
      "\taction 2 [1]\n",
      "\t\t8 : 0.8\n",
      "\t\t9 : 0.1\n",
      "\t\t10 : 0.1\n",
      "state 5 [0]\n",
      "\taction 0 [10]\n",
      "\t\t4 : 1\n",
      "state 6 [0]\n",
      "\taction 0 [1]\n",
      "\t\t8 : 1\n",
      "state 7 [0]\n",
      "\taction 0 [1]\n",
      "\t\t0 : 1\n",
      "state 8 [0] T\n",
      "\taction 0 [1]\n",
      "\t\t11 : 1\n",
      "state 9 [0]\n",
      "\taction 0 [4]\n",
      "\t\t0 : 1\n",
      "state 10 [0]\n",
      "\taction 0 [10]\n",
      "\t\t3 : 1\n",
      "state 11 [0] T\n",
      "\taction 0 [1]\n",
      "\t\t8 : 1\n",
      "\n"
     ]
    }
   ],
   "source": [
    "with open('../models/agent_stochastic_maze_drn', 'r') as prism_file:\n",
    "    print(prism_file.read())"
   ]
  },
  {
   "cell_type": "code",
   "execution_count": null,
   "metadata": {},
   "outputs": [],
   "source": []
  }
 ],
 "metadata": {
  "kernelspec": {
   "display_name": "Storm-1.2.0",
   "language": "python",
   "name": "storm-1.2.0"
  },
  "language_info": {
   "codemirror_mode": {
    "name": "ipython",
    "version": 3
   },
   "file_extension": ".py",
   "mimetype": "text/x-python",
   "name": "python",
   "nbconvert_exporter": "python",
   "pygments_lexer": "ipython3",
   "version": "3.6.3"
  }
 },
 "nbformat": 4,
 "nbformat_minor": 2
}
